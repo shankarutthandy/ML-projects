{
 "metadata": {
  "language_info": {
   "codemirror_mode": {
    "name": "ipython",
    "version": 3
   },
   "file_extension": ".py",
   "mimetype": "text/x-python",
   "name": "python",
   "nbconvert_exporter": "python",
   "pygments_lexer": "ipython3",
   "version": "3.6.9-final"
  },
  "orig_nbformat": 2,
  "kernelspec": {
   "name": "python3",
   "display_name": "Python 3.6.9 64-bit",
   "metadata": {
    "interpreter": {
     "hash": "31f2aee4e71d21fbe5cf8b01ff0e069b9275f58929596ceb00d14d90e3e16cd6"
    }
   }
  }
 },
 "nbformat": 4,
 "nbformat_minor": 2,
 "cells": [
  {
   "cell_type": "code",
   "execution_count": 1,
   "metadata": {},
   "outputs": [],
   "source": [
    "!pip install -q tensorflow_datasets"
   ]
  },
  {
   "cell_type": "code",
   "execution_count": 2,
   "metadata": {
    "tags": [
     "outputPrepend"
    ]
   },
   "outputs": [
    {
     "output_type": "stream",
     "name": "stdout",
     "text": [
      "0, 1979.05 examples/s]\u001b[A\n",
      "Generating unsupervised examples...:  21%|██        | 10341/50000 [00:09<00:19, 2010.23 examples/s]\u001b[A\n",
      "Generating unsupervised examples...:  21%|██        | 10543/50000 [00:10<00:19, 1982.83 examples/s]\u001b[A\n",
      "Generating unsupervised examples...:  21%|██▏       | 10742/50000 [00:10<00:19, 1983.85 examples/s]\u001b[A\n",
      "Generating unsupervised examples...:  22%|██▏       | 10941/50000 [00:10<00:19, 1953.97 examples/s]\u001b[A\n",
      "Generating unsupervised examples...:  22%|██▏       | 11147/50000 [00:10<00:19, 1979.39 examples/s]\u001b[A\n",
      "Generating unsupervised examples...:  23%|██▎       | 11346/50000 [00:10<00:19, 1938.97 examples/s]\u001b[A\n",
      "Generating unsupervised examples...:  23%|██▎       | 11554/50000 [00:10<00:19, 1979.96 examples/s]\u001b[A\n",
      "Generating unsupervised examples...:  24%|██▎       | 11773/50000 [00:10<00:18, 2040.04 examples/s]\u001b[A\n",
      "Generating unsupervised examples...:  24%|██▍       | 11993/50000 [00:10<00:18, 2085.93 examples/s]\u001b[A\n",
      "Generating unsupervised examples...:  24%|██▍       | 12209/50000 [00:10<00:17, 2106.25 examples/s]\u001b[A\n",
      "Generating unsupervised examples...:  25%|██▍       | 12432/50000 [00:10<00:17, 2140.97 examples/s]\u001b[A\n",
      "Generating unsupervised examples...:  25%|██▌       | 12651/50000 [00:11<00:17, 2154.64 examples/s]\u001b[A\n",
      "Generating unsupervised examples...:  26%|██▌       | 12868/50000 [00:11<00:17, 2158.89 examples/s]\u001b[A\n",
      "Generating unsupervised examples...:  26%|██▌       | 13087/50000 [00:11<00:17, 2167.01 examples/s]\u001b[A\n",
      "Generating unsupervised examples...:  27%|██▋       | 13304/50000 [00:11<00:18, 2008.44 examples/s]\u001b[A\n",
      "Generating unsupervised examples...:  27%|██▋       | 13508/50000 [00:11<00:18, 1996.26 examples/s]\u001b[A\n",
      "Generating unsupervised examples...:  27%|██▋       | 13727/50000 [00:11<00:17, 2048.54 examples/s]\u001b[A\n",
      "Generating unsupervised examples...:  28%|██▊       | 13934/50000 [00:11<00:18, 1979.57 examples/s]\u001b[A\n",
      "Generating unsupervised examples...:  28%|██▊       | 14134/50000 [00:11<00:18, 1942.95 examples/s]\u001b[A\n",
      "Generating unsupervised examples...:  29%|██▊       | 14346/50000 [00:11<00:17, 1992.22 examples/s]\u001b[A\n",
      "Generating unsupervised examples...:  29%|██▉       | 14547/50000 [00:11<00:17, 1986.16 examples/s]\u001b[A\n",
      "Generating unsupervised examples...:  30%|██▉       | 14754/50000 [00:12<00:17, 2008.74 examples/s]\u001b[A\n",
      "Generating unsupervised examples...:  30%|██▉       | 14957/50000 [00:12<00:17, 2014.70 examples/s]\u001b[A\n",
      "Generating unsupervised examples...:  30%|███       | 15178/50000 [00:12<00:16, 2071.02 examples/s]\u001b[A\n",
      "Generating unsupervised examples...:  31%|███       | 15412/50000 [00:12<00:16, 2149.41 examples/s]\u001b[A\n",
      "Generating unsupervised examples...:  31%|███▏      | 15628/50000 [00:12<00:16, 2130.04 examples/s]\u001b[A\n",
      "Generating unsupervised examples...:  32%|███▏      | 15859/50000 [00:12<00:15, 2182.29 examples/s]\u001b[A\n",
      "Generating unsupervised examples...:  32%|███▏      | 16087/50000 [00:12<00:15, 2210.80 examples/s]\u001b[A\n",
      "Generating unsupervised examples...:  33%|███▎      | 16319/50000 [00:12<00:15, 2241.27 examples/s]\u001b[A\n",
      "Generating unsupervised examples...:  33%|███▎      | 16550/50000 [00:12<00:14, 2260.51 examples/s]\u001b[A\n",
      "Generating unsupervised examples...:  34%|███▎      | 16780/50000 [00:13<00:14, 2268.46 examples/s]\u001b[A\n",
      "Generating unsupervised examples...:  34%|███▍      | 17007/50000 [00:13<00:14, 2262.72 examples/s]\u001b[A\n",
      "Generating unsupervised examples...:  34%|███▍      | 17234/50000 [00:13<00:14, 2195.63 examples/s]\u001b[A\n",
      "Generating unsupervised examples...:  35%|███▍      | 17455/50000 [00:13<00:15, 2158.39 examples/s]\u001b[A\n",
      "Generating unsupervised examples...:  35%|███▌      | 17672/50000 [00:13<00:15, 2145.00 examples/s]\u001b[A\n",
      "Generating unsupervised examples...:  36%|███▌      | 17887/50000 [00:13<00:15, 2086.59 examples/s]\u001b[A\n",
      "Generating unsupervised examples...:  36%|███▌      | 18098/50000 [00:13<00:15, 2089.94 examples/s]\u001b[A\n",
      "Generating unsupervised examples...:  37%|███▋      | 18311/50000 [00:13<00:15, 2095.76 examples/s]\u001b[A\n",
      "Generating unsupervised examples...:  37%|███▋      | 18521/50000 [00:13<00:15, 2093.51 examples/s]\u001b[A\n",
      "Generating unsupervised examples...:  37%|███▋      | 18731/50000 [00:13<00:15, 2076.36 examples/s]\u001b[A\n",
      "Generating unsupervised examples...:  38%|███▊      | 18939/50000 [00:14<00:16, 1927.09 examples/s]\u001b[A\n",
      "Generating unsupervised examples...:  38%|███▊      | 19134/50000 [00:14<00:16, 1895.77 examples/s]\u001b[A\n",
      "Generating unsupervised examples...:  39%|███▊      | 19331/50000 [00:14<00:16, 1915.81 examples/s]\u001b[A\n",
      "Generating unsupervised examples...:  39%|███▉      | 19524/50000 [00:14<00:16, 1896.15 examples/s]\u001b[A\n",
      "Generating unsupervised examples...:  39%|███▉      | 19715/50000 [00:14<00:16, 1862.04 examples/s]\u001b[A\n",
      "Generating unsupervised examples...:  40%|███▉      | 19918/50000 [00:14<00:15, 1905.16 examples/s]\u001b[A\n",
      "Generating unsupervised examples...:  40%|████      | 20117/50000 [00:14<00:15, 1928.60 examples/s]\u001b[A\n",
      "Generating unsupervised examples...:  41%|████      | 20311/50000 [00:14<00:15, 1927.19 examples/s]\u001b[A\n",
      "Generating unsupervised examples...:  41%|████      | 20529/50000 [00:14<00:14, 2000.00 examples/s]\u001b[A\n",
      "Generating unsupervised examples...:  41%|████▏     | 20737/50000 [00:14<00:14, 2021.09 examples/s]\u001b[A\n",
      "Generating unsupervised examples...:  42%|████▏     | 20940/50000 [00:15<00:14, 2020.44 examples/s]\u001b[A\n",
      "Generating unsupervised examples...:  42%|████▏     | 21154/50000 [00:15<00:14, 2054.96 examples/s]\u001b[A\n",
      "Generating unsupervised examples...:  43%|████▎     | 21373/50000 [00:15<00:13, 2094.00 examples/s]\u001b[A\n",
      "Generating unsupervised examples...:  43%|████▎     | 21593/50000 [00:15<00:13, 2124.44 examples/s]\u001b[A\n",
      "Generating unsupervised examples...:  44%|████▎     | 21811/50000 [00:15<00:13, 2137.86 examples/s]\u001b[A\n",
      "Generating unsupervised examples...:  44%|████▍     | 22025/50000 [00:15<00:13, 2041.80 examples/s]\u001b[A\n",
      "Generating unsupervised examples...:  44%|████▍     | 22246/50000 [00:15<00:13, 2089.66 examples/s]\u001b[A\n",
      "Generating unsupervised examples...:  45%|████▍     | 22479/50000 [00:15<00:12, 2158.16 examples/s]\u001b[A\n",
      "Generating unsupervised examples...:  45%|████▌     | 22712/50000 [00:15<00:12, 2207.91 examples/s]\u001b[A\n",
      "Generating unsupervised examples...:  46%|████▌     | 22950/50000 [00:16<00:11, 2257.63 examples/s]\u001b[A\n",
      "Generating unsupervised examples...:  46%|████▋     | 23177/50000 [00:16<00:12, 2233.28 examples/s]\u001b[A\n",
      "Generating unsupervised examples...:  47%|████▋     | 23401/50000 [00:16<00:12, 2205.34 examples/s]\u001b[A\n",
      "Generating unsupervised examples...:  47%|████▋     | 23622/50000 [00:16<00:12, 2147.11 examples/s]\u001b[A\n",
      "Generating unsupervised examples...:  48%|████▊     | 23838/50000 [00:16<00:12, 2123.04 examples/s]\u001b[A\n",
      "Generating unsupervised examples...:  48%|████▊     | 24051/50000 [00:16<00:12, 2118.81 examples/s]\u001b[A\n",
      "Generating unsupervised examples...:  49%|████▊     | 24266/50000 [00:16<00:12, 2127.80 examples/s]\u001b[A\n",
      "Generating unsupervised examples...:  49%|████▉     | 24479/50000 [00:16<00:12, 2113.36 examples/s]\u001b[A\n",
      "Generating unsupervised examples...:  49%|████▉     | 24691/50000 [00:16<00:12, 2105.05 examples/s]\u001b[A\n",
      "Generating unsupervised examples...:  50%|████▉     | 24902/50000 [00:16<00:12, 1951.65 examples/s]\u001b[A\n",
      "Generating unsupervised examples...:  50%|█████     | 25100/50000 [00:17<00:12, 1923.05 examples/s]\u001b[A\n",
      "Generating unsupervised examples...:  51%|█████     | 25296/50000 [00:17<00:12, 1926.91 examples/s]\u001b[A\n",
      "Generating unsupervised examples...:  51%|█████     | 25492/50000 [00:17<00:12, 1936.24 examples/s]\u001b[A\n",
      "Generating unsupervised examples...:  51%|█████▏    | 25689/50000 [00:17<00:12, 1942.39 examples/s]\u001b[A\n",
      "Generating unsupervised examples...:  52%|█████▏    | 25884/50000 [00:17<00:12, 1930.89 examples/s]\u001b[A\n",
      "Generating unsupervised examples...:  52%|█████▏    | 26078/50000 [00:17<00:12, 1899.80 examples/s]\u001b[A\n",
      "Generating unsupervised examples...:  53%|█████▎    | 26278/50000 [00:17<00:12, 1928.15 examples/s]\u001b[A\n",
      "Generating unsupervised examples...:  53%|█████▎    | 26473/50000 [00:17<00:12, 1933.87 examples/s]\u001b[A\n",
      "Generating unsupervised examples...:  53%|█████▎    | 26667/50000 [00:17<00:12, 1927.69 examples/s]\u001b[A\n",
      "Generating unsupervised examples...:  54%|█████▎    | 26866/50000 [00:17<00:11, 1945.79 examples/s]\u001b[A\n",
      "Generating unsupervised examples...:  54%|█████▍    | 27062/50000 [00:18<00:11, 1949.89 examples/s]\u001b[A\n",
      "Generating unsupervised examples...:  55%|█████▍    | 27260/50000 [00:18<00:11, 1957.47 examples/s]\u001b[A\n",
      "Generating unsupervised examples...:  55%|█████▍    | 27463/50000 [00:18<00:11, 1976.15 examples/s]\u001b[A\n",
      "Generating unsupervised examples...:  55%|█████▌    | 27666/50000 [00:18<00:11, 1991.24 examples/s]\u001b[A\n",
      "Generating unsupervised examples...:  56%|█████▌    | 27868/50000 [00:18<00:11, 1997.48 examples/s]\u001b[A\n",
      "Generating unsupervised examples...:  56%|█████▌    | 28074/50000 [00:18<00:10, 2015.66 examples/s]\u001b[A\n",
      "Generating unsupervised examples...:  57%|█████▋    | 28276/50000 [00:18<00:10, 2007.47 examples/s]\u001b[A\n",
      "Generating unsupervised examples...:  57%|█████▋    | 28488/50000 [00:18<00:10, 2040.88 examples/s]\u001b[A\n",
      "Generating unsupervised examples...:  57%|█████▋    | 28693/50000 [00:18<00:10, 2012.25 examples/s]\u001b[A\n",
      "Generating unsupervised examples...:  58%|█████▊    | 28895/50000 [00:18<00:10, 1965.16 examples/s]\u001b[A\n",
      "Generating unsupervised examples...:  58%|█████▊    | 29102/50000 [00:19<00:10, 1993.56 examples/s]\u001b[A\n",
      "Generating unsupervised examples...:  59%|█████▊    | 29302/50000 [00:19<00:10, 1943.54 examples/s]\u001b[A\n",
      "Generating unsupervised examples...:  59%|█████▉    | 29511/50000 [00:19<00:10, 1985.90 examples/s]\u001b[A\n",
      "Generating unsupervised examples...:  59%|█████▉    | 29735/50000 [00:19<00:09, 2060.27 examples/s]\u001b[A\n",
      "Generating unsupervised examples...:  60%|█████▉    | 29955/50000 [00:19<00:09, 2099.36 examples/s]\u001b[A\n",
      "Generating unsupervised examples...:  60%|██████    | 30179/50000 [00:19<00:09, 2139.35 examples/s]\u001b[A\n",
      "Generating unsupervised examples...:  61%|██████    | 30405/50000 [00:19<00:09, 2173.87 examples/s]\u001b[A\n",
      "Generating unsupervised examples...:  61%|██████    | 30623/50000 [00:19<00:09, 2090.29 examples/s]\u001b[A\n",
      "Generating unsupervised examples...:  62%|██████▏   | 30833/50000 [00:19<00:09, 1968.53 examples/s]\u001b[A\n",
      "Generating unsupervised examples...:  62%|██████▏   | 31032/50000 [00:20<00:09, 1917.01 examples/s]\u001b[A\n",
      "Generating unsupervised examples...:  63%|██████▎   | 31254/50000 [00:20<00:09, 2000.18 examples/s]\u001b[A\n",
      "Generating unsupervised examples...:  63%|██████▎   | 31456/50000 [00:20<00:09, 1936.92 examples/s]\u001b[A\n",
      "Generating unsupervised examples...:  63%|██████▎   | 31651/50000 [00:20<00:09, 1882.56 examples/s]\u001b[A\n",
      "Generating unsupervised examples...:  64%|██████▎   | 31841/50000 [00:20<00:13, 1361.13 examples/s]\u001b[A\n",
      "Generating unsupervised examples...:  64%|██████▍   | 32028/50000 [00:20<00:12, 1474.77 examples/s]\u001b[A\n",
      "Generating unsupervised examples...:  64%|██████▍   | 32212/50000 [00:20<00:11, 1563.46 examples/s]\u001b[A\n",
      "Generating unsupervised examples...:  65%|██████▍   | 32410/50000 [00:20<00:10, 1670.60 examples/s]\u001b[A\n",
      "Generating unsupervised examples...:  65%|██████▌   | 32608/50000 [00:21<00:09, 1752.18 examples/s]\u001b[A\n",
      "Generating unsupervised examples...:  66%|██████▌   | 32799/50000 [00:21<00:09, 1794.98 examples/s]\u001b[A\n",
      "Generating unsupervised examples...:  66%|██████▌   | 32986/50000 [00:21<00:09, 1809.85 examples/s]\u001b[A\n",
      "Generating unsupervised examples...:  66%|██████▋   | 33174/50000 [00:21<00:09, 1829.02 examples/s]\u001b[A\n",
      "Generating unsupervised examples...:  67%|██████▋   | 33361/50000 [00:21<00:09, 1774.65 examples/s]\u001b[A\n",
      "Generating unsupervised examples...:  67%|██████▋   | 33547/50000 [00:21<00:09, 1798.26 examples/s]\u001b[A\n",
      "Generating unsupervised examples...:  68%|██████▊   | 33750/50000 [00:21<00:08, 1863.44 examples/s]\u001b[A\n",
      "Generating unsupervised examples...:  68%|██████▊   | 33965/50000 [00:21<00:08, 1945.61 examples/s]\u001b[A\n",
      "Generating unsupervised examples...:  68%|██████▊   | 34176/50000 [00:21<00:07, 1992.46 examples/s]\u001b[A\n",
      "Generating unsupervised examples...:  69%|██████▉   | 34379/50000 [00:21<00:07, 2002.65 examples/s]\u001b[A\n",
      "Generating unsupervised examples...:  69%|██████▉   | 34580/50000 [00:22<00:08, 1921.88 examples/s]\u001b[A\n",
      "Generating unsupervised examples...:  70%|██████▉   | 34774/50000 [00:22<00:08, 1887.06 examples/s]\u001b[A\n",
      "Generating unsupervised examples...:  70%|██████▉   | 34988/50000 [00:22<00:07, 1959.31 examples/s]\u001b[A\n",
      "Generating unsupervised examples...:  70%|███████   | 35208/50000 [00:22<00:07, 2029.21 examples/s]\u001b[A\n",
      "Generating unsupervised examples...:  71%|███████   | 35431/50000 [00:22<00:06, 2086.94 examples/s]\u001b[A\n",
      "Generating unsupervised examples...:  71%|███████▏  | 35651/50000 [00:22<00:06, 2118.81 examples/s]\u001b[A\n",
      "Generating unsupervised examples...:  72%|███████▏  | 35864/50000 [00:22<00:06, 2114.13 examples/s]\u001b[A\n",
      "Generating unsupervised examples...:  72%|███████▏  | 36089/50000 [00:22<00:06, 2153.96 examples/s]\u001b[A\n",
      "Generating unsupervised examples...:  73%|███████▎  | 36305/50000 [00:22<00:06, 2114.86 examples/s]\u001b[A\n",
      "Generating unsupervised examples...:  73%|███████▎  | 36523/50000 [00:22<00:06, 2133.85 examples/s]\u001b[A\n",
      "Generating unsupervised examples...:  73%|███████▎  | 36737/50000 [00:23<00:06, 2123.99 examples/s]\u001b[A\n",
      "Generating unsupervised examples...:  74%|███████▍  | 36950/50000 [00:23<00:06, 2061.22 examples/s]\u001b[A\n",
      "Generating unsupervised examples...:  74%|███████▍  | 37157/50000 [00:23<00:06, 2032.47 examples/s]\u001b[A\n",
      "Generating unsupervised examples...:  75%|███████▍  | 37361/50000 [00:23<00:06, 1983.05 examples/s]\u001b[A\n",
      "Generating unsupervised examples...:  75%|███████▌  | 37560/50000 [00:23<00:06, 1983.13 examples/s]\u001b[A\n",
      "Generating unsupervised examples...:  76%|███████▌  | 37759/50000 [00:23<00:06, 1942.38 examples/s]\u001b[A\n",
      "Generating unsupervised examples...:  76%|███████▌  | 37967/50000 [00:23<00:06, 1980.17 examples/s]\u001b[A\n",
      "Generating unsupervised examples...:  76%|███████▋  | 38178/50000 [00:23<00:05, 2016.62 examples/s]\u001b[A\n",
      "Generating unsupervised examples...:  77%|███████▋  | 38388/50000 [00:23<00:05, 2039.73 examples/s]\u001b[A\n",
      "Generating unsupervised examples...:  77%|███████▋  | 38599/50000 [00:23<00:05, 2059.76 examples/s]\u001b[A\n",
      "Generating unsupervised examples...:  78%|███████▊  | 38810/50000 [00:24<00:05, 2073.76 examples/s]\u001b[A\n",
      "Generating unsupervised examples...:  78%|███████▊  | 39032/50000 [00:24<00:05, 2114.95 examples/s]\u001b[A\n",
      "Generating unsupervised examples...:  78%|███████▊  | 39244/50000 [00:24<00:05, 2109.59 examples/s]\u001b[A\n",
      "Generating unsupervised examples...:  79%|███████▉  | 39460/50000 [00:24<00:04, 2122.64 examples/s]\u001b[A\n",
      "Generating unsupervised examples...:  79%|███████▉  | 39673/50000 [00:24<00:04, 2086.08 examples/s]\u001b[A\n",
      "Generating unsupervised examples...:  80%|███████▉  | 39886/50000 [00:24<00:04, 2098.28 examples/s]\u001b[A\n",
      "Generating unsupervised examples...:  80%|████████  | 40111/50000 [00:24<00:04, 2142.03 examples/s]\u001b[A\n",
      "Generating unsupervised examples...:  81%|████████  | 40342/50000 [00:24<00:04, 2190.68 examples/s]\u001b[A\n",
      "Generating unsupervised examples...:  81%|████████  | 40562/50000 [00:24<00:04, 2143.40 examples/s]\u001b[A\n",
      "Generating unsupervised examples...:  82%|████████▏ | 40787/50000 [00:25<00:04, 2172.96 examples/s]\u001b[A\n",
      "Generating unsupervised examples...:  82%|████████▏ | 41005/50000 [00:25<00:04, 2062.49 examples/s]\u001b[A\n",
      "Generating unsupervised examples...:  82%|████████▏ | 41213/50000 [00:25<00:04, 2054.49 examples/s]\u001b[A\n",
      "Generating unsupervised examples...:  83%|████████▎ | 41420/50000 [00:25<00:04, 2053.05 examples/s]\u001b[A\n",
      "Generating unsupervised examples...:  83%|████████▎ | 41626/50000 [00:25<00:04, 2053.63 examples/s]\u001b[A\n",
      "Generating unsupervised examples...:  84%|████████▎ | 41834/50000 [00:25<00:03, 2058.80 examples/s]\u001b[A\n",
      "Generating unsupervised examples...:  84%|████████▍ | 42041/50000 [00:25<00:03, 2050.35 examples/s]\u001b[A\n",
      "Generating unsupervised examples...:  84%|████████▍ | 42248/50000 [00:25<00:03, 2054.02 examples/s]\u001b[A\n",
      "Generating unsupervised examples...:  85%|████████▍ | 42454/50000 [00:25<00:03, 2048.20 examples/s]\u001b[A\n",
      "Generating unsupervised examples...:  85%|████████▌ | 42674/50000 [00:25<00:03, 2090.36 examples/s]\u001b[A\n",
      "Generating unsupervised examples...:  86%|████████▌ | 42884/50000 [00:26<00:03, 2089.97 examples/s]\u001b[A\n",
      "Generating unsupervised examples...:  86%|████████▌ | 43105/50000 [00:26<00:03, 2123.30 examples/s]\u001b[A\n",
      "Generating unsupervised examples...:  87%|████████▋ | 43320/50000 [00:26<00:03, 2130.91 examples/s]\u001b[A\n",
      "Generating unsupervised examples...:  87%|████████▋ | 43538/50000 [00:26<00:03, 2143.91 examples/s]\u001b[A\n",
      "Generating unsupervised examples...:  88%|████████▊ | 43753/50000 [00:26<00:02, 2111.98 examples/s]\u001b[A\n",
      "Generating unsupervised examples...:  88%|████████▊ | 43965/50000 [00:26<00:02, 2068.21 examples/s]\u001b[A\n",
      "Generating unsupervised examples...:  88%|████████▊ | 44179/50000 [00:26<00:02, 2089.16 examples/s]\u001b[A\n",
      "Generating unsupervised examples...:  89%|████████▉ | 44400/50000 [00:26<00:02, 2124.28 examples/s]\u001b[A\n",
      "Generating unsupervised examples...:  89%|████████▉ | 44623/50000 [00:26<00:02, 2152.94 examples/s]\u001b[A\n",
      "Generating unsupervised examples...:  90%|████████▉ | 44850/50000 [00:26<00:02, 2186.02 examples/s]\u001b[A\n",
      "Generating unsupervised examples...:  90%|█████████ | 45079/50000 [00:27<00:02, 2215.82 examples/s]\u001b[A\n",
      "Generating unsupervised examples...:  91%|█████████ | 45313/50000 [00:27<00:02, 2251.46 examples/s]\u001b[A\n",
      "Generating unsupervised examples...:  91%|█████████ | 45539/50000 [00:27<00:02, 2195.16 examples/s]\u001b[A\n",
      "Generating unsupervised examples...:  92%|█████████▏| 45770/50000 [00:27<00:01, 2226.80 examples/s]\u001b[A\n",
      "Generating unsupervised examples...:  92%|█████████▏| 46001/50000 [00:27<00:01, 2251.24 examples/s]\u001b[A\n",
      "Generating unsupervised examples...:  92%|█████████▏| 46227/50000 [00:27<00:01, 2173.34 examples/s]\u001b[A\n",
      "Generating unsupervised examples...:  93%|█████████▎| 46446/50000 [00:27<00:01, 2159.76 examples/s]\u001b[A\n",
      "Generating unsupervised examples...:  93%|█████████▎| 46663/50000 [00:27<00:01, 2104.33 examples/s]\u001b[A\n",
      "Generating unsupervised examples...:  94%|█████████▎| 46874/50000 [00:27<00:01, 2001.95 examples/s]\u001b[A\n",
      "Generating unsupervised examples...:  94%|█████████▍| 47080/50000 [00:28<00:01, 2015.36 examples/s]\u001b[A\n",
      "Generating unsupervised examples...:  95%|█████████▍| 47290/50000 [00:28<00:01, 2038.53 examples/s]\u001b[A\n",
      "Generating unsupervised examples...:  95%|█████████▍| 47495/50000 [00:28<00:01, 2041.06 examples/s]\u001b[A\n",
      "Generating unsupervised examples...:  95%|█████████▌| 47714/50000 [00:28<00:01, 2084.36 examples/s]\u001b[A\n",
      "Generating unsupervised examples...:  96%|█████████▌| 47933/50000 [00:28<00:00, 2115.16 examples/s]\u001b[A\n",
      "Generating unsupervised examples...:  96%|█████████▋| 48156/50000 [00:28<00:00, 2149.00 examples/s]\u001b[A\n",
      "Generating unsupervised examples...:  97%|█████████▋| 48387/50000 [00:28<00:00, 2190.49 examples/s]\u001b[A\n",
      "Generating unsupervised examples...:  97%|█████████▋| 48614/50000 [00:28<00:00, 2213.58 examples/s]\u001b[A\n",
      "Generating unsupervised examples...:  98%|█████████▊| 48844/50000 [00:28<00:00, 2238.21 examples/s]\u001b[A\n",
      "Generating unsupervised examples...:  98%|█████████▊| 49091/50000 [00:28<00:00, 2305.52 examples/s]\u001b[A\n",
      "Generating unsupervised examples...:  99%|█████████▊| 49343/50000 [00:29<00:00, 2368.12 examples/s]\u001b[A\n",
      "Generating unsupervised examples...:  99%|█████████▉| 49580/50000 [00:29<00:00, 2361.81 examples/s]\u001b[A\n",
      "Generating unsupervised examples...: 100%|█████████▉| 49817/50000 [00:29<00:00, 2324.67 examples/s]\u001b[A\n",
      "                                                                                                   \u001b[A\n",
      "Shuffling imdb_reviews-unsupervised.tfrecord...:   0%|          | 0/50000 [00:00<?, ? examples/s]\u001b[A\n",
      "Shuffling imdb_reviews-unsupervised.tfrecord...:   7%|▋         | 3507/50000 [00:00<00:01, 35067.44 examples/s]\u001b[A\n",
      "Shuffling imdb_reviews-unsupervised.tfrecord...:  49%|████▊     | 24341/50000 [00:00<00:00, 136983.34 examples/s]\u001b[A\n",
      "Shuffling imdb_reviews-unsupervised.tfrecord...:  89%|████████▉ | 44592/50000 [00:00<00:00, 166895.61 examples/s]\u001b[A\n",
      "\u001b[1mDataset imdb_reviews downloaded and prepared to /home/shankar/tensorflow_datasets/imdb_reviews/plain_text/1.0.0. Subsequent calls will reuse this data.\u001b[0m\n"
     ]
    }
   ],
   "source": [
    "import tensorflow as tf \n",
    "import tensorflow_datasets as tfds\n",
    "imdb,info=tfds.load('imdb_reviews',with_info=True,as_supervised=True)"
   ]
  },
  {
   "cell_type": "code",
   "execution_count": 8,
   "metadata": {},
   "outputs": [],
   "source": [
    "import numpy as np \n",
    "train_data,test_data=imdb['train'],imdb['test']\n",
    "train_sentences=[]\n",
    "test_sentences=[]\n",
    "train_labels=[]\n",
    "test_labels=[]\n",
    "for sentence,label in train_data:\n",
    "    train_sentences.append(sentence.numpy().decode('utf8'))\n",
    "    train_labels.append(label.numpy())\n",
    "for sentence,label in test_data:\n",
    "    test_sentences.append(sentence.numpy().decode('utf8'))\n",
    "    test_labels.append(label.numpy())\n",
    "train_labels=np.array(train_labels)\n",
    "test_labels=np.array(test_labels)"
   ]
  },
  {
   "cell_type": "code",
   "execution_count": 18,
   "metadata": {},
   "outputs": [],
   "source": [
    "from tensorflow.keras.preprocessing.text import Tokenizer\n",
    "from tensorflow.keras.preprocessing.sequence import pad_sequences\n",
    "voc=10000\n",
    "embeddin_dim=16\n",
    "max_length=120\n",
    "truncate_type='post'\n",
    "paddin_type='post'\n",
    "oov_token='<oov>'\n",
    "tokenizer=Tokenizer(num_words=voc,oov_token=oov_token)\n",
    "tokenizer.fit_on_texts(train_sentences)\n",
    "train_sequences=tokenizer.texts_to_sequences(train_sentences)\n",
    "train_padded=pad_sequences(sequences=train_sequences,maxlen=120,padding=paddin_type,truncating=truncate_type)\n",
    "test_sequences=tokenizer.texts_to_sequences(test_sentences)\n",
    "test_padded=pad_sequences(sequences=test_sequences,maxlen=120,padding=paddin_type,truncating=truncate_type)"
   ]
  },
  {
   "cell_type": "code",
   "execution_count": 19,
   "metadata": {},
   "outputs": [
    {
     "output_type": "stream",
     "name": "stdout",
     "text": [
      "Model: \"sequential_1\"\n_________________________________________________________________\nLayer (type)                 Output Shape              Param #   \n=================================================================\nembedding_1 (Embedding)      (None, 120, 16)           160000    \n_________________________________________________________________\nflatten_1 (Flatten)          (None, 1920)              0         \n_________________________________________________________________\ndense_2 (Dense)              (None, 6)                 11526     \n_________________________________________________________________\ndense_3 (Dense)              (None, 1)                 7         \n=================================================================\nTotal params: 171,533\nTrainable params: 171,533\nNon-trainable params: 0\n_________________________________________________________________\n"
     ]
    }
   ],
   "source": [
    "model=tf.keras.Sequential([tf.keras.layers.Embedding(voc,embeddin_dim,input_length=max_length),\n",
    "                           tf.keras.layers.Flatten(),\n",
    "                           tf.keras.layers.Dense(units=6,activation='relu'),\n",
    "                           tf.keras.layers.Dense(units=1,activation='sigmoid')\n",
    "                           ])\n",
    "model.compile(optimizer='adam',loss='binary_crossentropy',metrics=['accuracy'])            \n",
    "model.summary()"
   ]
  },
  {
   "cell_type": "code",
   "execution_count": 20,
   "metadata": {},
   "outputs": [
    {
     "output_type": "stream",
     "name": "stdout",
     "text": [
      "Epoch 1/10\n",
      "782/782 [==============================] - 10s 12ms/step - loss: 0.6093 - accuracy: 0.6208 - val_loss: 0.3853 - val_accuracy: 0.8252\n",
      "Epoch 2/10\n",
      "782/782 [==============================] - 13s 16ms/step - loss: 0.2401 - accuracy: 0.9078 - val_loss: 0.4069 - val_accuracy: 0.8230\n",
      "Epoch 3/10\n",
      "782/782 [==============================] - 10s 13ms/step - loss: 0.0932 - accuracy: 0.9784 - val_loss: 0.5133 - val_accuracy: 0.8059\n",
      "Epoch 4/10\n",
      "782/782 [==============================] - 11s 15ms/step - loss: 0.0233 - accuracy: 0.9973 - val_loss: 0.6053 - val_accuracy: 0.8094\n",
      "Epoch 5/10\n",
      "782/782 [==============================] - 15s 19ms/step - loss: 0.0072 - accuracy: 0.9995 - val_loss: 0.6708 - val_accuracy: 0.8054\n",
      "Epoch 6/10\n",
      "782/782 [==============================] - 14s 18ms/step - loss: 0.0026 - accuracy: 0.9999 - val_loss: 0.7321 - val_accuracy: 0.8071\n",
      "Epoch 7/10\n",
      "782/782 [==============================] - 12s 16ms/step - loss: 0.0011 - accuracy: 1.0000 - val_loss: 0.7868 - val_accuracy: 0.8085\n",
      "Epoch 8/10\n",
      "782/782 [==============================] - 8s 10ms/step - loss: 4.9735e-04 - accuracy: 1.0000 - val_loss: 0.8340 - val_accuracy: 0.8074\n",
      "Epoch 9/10\n",
      "782/782 [==============================] - 7s 9ms/step - loss: 3.0372e-04 - accuracy: 1.0000 - val_loss: 0.8783 - val_accuracy: 0.8084\n",
      "Epoch 10/10\n",
      "782/782 [==============================] - 8s 10ms/step - loss: 1.7903e-04 - accuracy: 1.0000 - val_loss: 0.9213 - val_accuracy: 0.8087\n"
     ]
    },
    {
     "output_type": "execute_result",
     "data": {
      "text/plain": [
       "<tensorflow.python.keras.callbacks.History at 0x7f86765c9d68>"
      ]
     },
     "metadata": {},
     "execution_count": 20
    }
   ],
   "source": [
    "model.fit(x=train_padded,y=train_labels,epochs=10,validation_data=(test_padded,test_labels))"
   ]
  },
  {
   "cell_type": "code",
   "execution_count": 57,
   "metadata": {},
   "outputs": [
    {
     "output_type": "stream",
     "name": "stdout",
     "text": [
      "positive review\n"
     ]
    }
   ],
   "source": [
    "sentence=['This impressive remake of the 1933 classic benefits from state-of-the-art special effects but couldve used more old-fashioned restraint']\n",
    "seq=tokenizer.texts_to_sequences(sentence)\n",
    "padded=pad_sequences(maxlen=max_length,sequences=seq,padding=paddin_type,truncating=truncate_type)\n",
    "pred=model.predict_classes(padded)\n",
    "if pred[0][0]==1:\n",
    "    print('positive review')\n",
    "else:\n",
    "    print('negative review')"
   ]
  }
 ]
}