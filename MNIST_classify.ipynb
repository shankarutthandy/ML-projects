{
 "cells": [
  {
   "cell_type": "code",
   "execution_count": 1,
   "id": "robust-silly",
   "metadata": {},
   "outputs": [],
   "source": [
    "!pip install keras"
   ]
  },
  {
   "cell_type": "code",
   "execution_count": 2,
   "id": "extreme-reaction",
   "metadata": {},
   "outputs": [],
   "source": [
    "!pip install tensorflow"
   ]
  },
  {
   "cell_type": "code",
   "execution_count": 3,
   "id": "alternative-athens",
   "metadata": {},
   "outputs": [],
   "source": [
    "from keras.datasets import mnist\n",
    "(train_X, train_y), (test_X, test_y) = mnist.load_data()"
   ]
  },
  {
   "cell_type": "code",
   "execution_count": 4,
   "id": "irish-nurse",
   "metadata": {},
   "outputs": [],
   "source": [
    "%matplotlib inline\n",
    "import matplotlib.pyplot as plt\n",
    "import matplotlib\n",
    "def plot_num(num):\n",
    "    num=num.reshape(28,28,)\n",
    "    plt.imshow(num,cmap=matplotlib.cm.binary,interpolation='nearest')\n",
    "    plt.axis('off')\n",
    "    plt.show()"
   ]
  },
  {
   "cell_type": "code",
   "execution_count": 5,
   "id": "constant-fundamental",
   "metadata": {},
   "outputs": [
    {
     "data": {
      "text/plain": [
       "True"
      ]
     },
     "execution_count": 5,
     "metadata": {},
     "output_type": "execute_result"
    }
   ],
   "source": [
    "train_y_8=(train_y==8)\n",
    "test_y_8=(test_y==8)\n",
    "train_y_8[300]"
   ]
  },
  {
   "cell_type": "code",
   "execution_count": 6,
   "id": "played-audio",
   "metadata": {},
   "outputs": [
    {
     "data": {
      "text/plain": [
       "SGDClassifier(random_state=42)"
      ]
     },
     "execution_count": 6,
     "metadata": {},
     "output_type": "execute_result"
    }
   ],
   "source": [
    "from sklearn.linear_model import SGDClassifier\n",
    "train_X=train_X.reshape(60000,784)\n",
    "test_X=test_X.reshape(10000,784)\n",
    "classifier=SGDClassifier(random_state=42)\n",
    "classifier.fit(train_X,train_y_8)"
   ]
  },
  {
   "cell_type": "code",
   "execution_count": 7,
   "id": "colored-sherman",
   "metadata": {},
   "outputs": [
    {
     "data": {
      "text/plain": [
       "array([ True])"
      ]
     },
     "execution_count": 7,
     "metadata": {},
     "output_type": "execute_result"
    }
   ],
   "source": [
    "classifier.predict([train_X[144]])"
   ]
  },
  {
   "cell_type": "code",
   "execution_count": 8,
   "id": "assumed-delight",
   "metadata": {},
   "outputs": [
    {
     "data": {
      "text/plain": [
       "True"
      ]
     },
     "execution_count": 8,
     "metadata": {},
     "output_type": "execute_result"
    }
   ],
   "source": [
    "train_y_8[485]"
   ]
  },
  {
   "cell_type": "code",
   "execution_count": 9,
   "id": "alert-suggestion",
   "metadata": {},
   "outputs": [
    {
     "name": "stdout",
     "output_type": "stream",
     "text": [
      "accuracy: 0.9256\n",
      "accuracy: 0.9318\n",
      "accuracy: 0.9386\n"
     ]
    }
   ],
   "source": [
    "from sklearn.model_selection import StratifiedKFold\n",
    "from sklearn.base import clone\n",
    "\n",
    "sk=StratifiedKFold(n_splits=3,shuffle=True,random_state=True)\n",
    "for i,j in sk.split(train_X,train_y_8):\n",
    "    clone_clf=clone(classifier)\n",
    "    X_train_Kfold=train_X[i]\n",
    "    Y_train_Kfold=train_y_8[i]\n",
    "    X_test_Kfold=train_X[j]\n",
    "    Y_test_Kfold=train_y_8[j]\n",
    "    clone_clf.fit(X_train_Kfold,Y_train_Kfold)\n",
    "    predicted=clone_clf.predict(X_test_Kfold)\n",
    "    n_correct=sum(predicted==Y_test_Kfold)\n",
    "    print(\"accuracy:\",n_correct/len(predicted))"
   ]
  },
  {
   "cell_type": "code",
   "execution_count": 10,
   "id": "stuck-filing",
   "metadata": {},
   "outputs": [
    {
     "data": {
      "text/plain": [
       "array([0.909  , 0.9286 , 0.88285])"
      ]
     },
     "execution_count": 10,
     "metadata": {},
     "output_type": "execute_result"
    }
   ],
   "source": [
    "from sklearn.model_selection import cross_val_score\n",
    "cross_val_score(classifier,train_X,train_y_8,cv=3,scoring='accuracy')"
   ]
  },
  {
   "cell_type": "code",
   "execution_count": 11,
   "id": "healthy-european",
   "metadata": {},
   "outputs": [],
   "source": [
    "import numpy as np\n",
    "from sklearn.model_selection import cross_val_predict\n",
    "from sklearn.metrics import confusion_matrix\n",
    "y_train_pred=cross_val_predict(classifier,train_X,train_y_8,cv=3)\n",
    "cnf=confusion_matrix(train_y_8,y_train_pred)"
   ]
  },
  {
   "cell_type": "code",
   "execution_count": 12,
   "id": "geographic-journalist",
   "metadata": {},
   "outputs": [
    {
     "name": "stdout",
     "output_type": "stream",
     "text": [
      "precision: 0.515211794991809\n",
      "recall: 0.515211794991809\n",
      "F1 score: 0.611655205945683\n"
     ]
    }
   ],
   "source": [
    "#precision=True+ve/(True+ve + False+ve)\n",
    "#recall=True+ve/(True+ve + False-ve)\n",
    "#F1 score=HarmonicMean(precision,recall)\n",
    "from sklearn.metrics import precision_score,recall_score,f1_score\n",
    "\n",
    "def scores(train_y,y_pred):\n",
    "    prec=precision_score(train_y,y_pred)\n",
    "    rec=precision_score(train_y,y_pred)\n",
    "    f1=f1_score(train_y,y_pred)\n",
    "    print('precision:',prec)\n",
    "    print('recall:',rec)\n",
    "    print('F1 score:',f1)\n",
    "scores(train_y_8,y_train_pred)"
   ]
  },
  {
   "cell_type": "code",
   "execution_count": 13,
   "id": "freelance-cache",
   "metadata": {},
   "outputs": [],
   "source": [
    "from sklearn.metrics import precision_recall_curve\n",
    "\n",
    "y_scores=cross_val_predict(classifier,train_X,train_y_8,cv=3,method='decision_function')\n",
    "precision,recall,thresholds=precision_recall_curve(train_y_8,y_scores)"
   ]
  },
  {
   "cell_type": "code",
   "execution_count": 14,
   "id": "through-salad",
   "metadata": {},
   "outputs": [
    {
     "data": {
      "image/png": "[encoded data removed]",
      "text/plain": [
       "<Figure size 432x288 with 1 Axes>"
      ]
     },
     "metadata": {
      "needs_background": "light"
     },
     "output_type": "display_data"
    }
   ],
   "source": [
    "def PRvsThreshold(prec,rec,thres):\n",
    "    plt.plot(thres,prec[:-1],'b',label='precision')\n",
    "    plt.plot(thres,rec[:-1],'g',label='recall')\n",
    "    plt.xlabel('threshold')\n",
    "    plt.legend(loc='upper left')\n",
    "    plt.ylim([0,1])\n",
    "PRvsThreshold(precision,recall,thresholds)\n",
    "plt.show()"
   ]
  },
  {
   "cell_type": "code",
   "execution_count": 15,
   "id": "auburn-decade",
   "metadata": {
    "scrolled": true
   },
   "outputs": [
    {
     "data": {
      "image/png": "[encoded data removed]",
      "text/plain": [
       "<Figure size 432x288 with 1 Axes>"
      ]
     },
     "metadata": {
      "needs_background": "light"
     },
     "output_type": "display_data"
    }
   ],
   "source": [
    "plt.plot(precision,recall,'r')\n",
    "plt.xlabel('recall')\n",
    "plt.ylabel('precision')\n",
    "plt.show()"
   ]
  },
  {
   "cell_type": "code",
   "execution_count": 16,
   "id": "unlikely-wallet",
   "metadata": {},
   "outputs": [
    {
     "name": "stdout",
     "output_type": "stream",
     "text": [
      "precision: 0.978021978021978\n",
      "recall: 0.978021978021978\n",
      "F1 score: 0.059008785015746724\n"
     ]
    }
   ],
   "source": [
    "y_pred_90=(y_scores>12000)\n",
    "scores(train_y_8,y_pred_90)"
   ]
  },
  {
   "cell_type": "code",
   "execution_count": 17,
   "id": "graduate-kennedy",
   "metadata": {},
   "outputs": [
    {
     "name": "stdout",
     "output_type": "stream",
     "text": [
      "ROC_score 0.9192599874103056\n"
     ]
    },
    {
     "data": {
      "image/png": "[encoded data removed]",
      "text/plain": [
       "<Figure size 432x288 with 1 Axes>"
      ]
     },
     "metadata": {
      "needs_background": "light"
     },
     "output_type": "display_data"
    }
   ],
   "source": [
    "from sklearn.metrics import roc_curve,roc_auc_score\n",
    "fpr,tpr,threshold=roc_curve(train_y_8,y_scores)\n",
    "#tpr=recall\n",
    "def roc_plot(fp,tp,color):\n",
    "    plt.plot(fp,tp,color)\n",
    "    plt.plot([0,1],[0,1],'g')\n",
    "    plt.xlabel('FalsePositiveRate')\n",
    "    plt.ylabel('TruePositiveRate')\n",
    "\n",
    "roc_plot(fpr,tpr,'b')\n",
    "print('ROC_score',roc_auc_score(train_y_8,y_scores))"
   ]
  },
  {
   "cell_type": "code",
   "execution_count": 18,
   "id": "smooth-counter",
   "metadata": {},
   "outputs": [],
   "source": [
    "from sklearn.ensemble import RandomForestClassifier\n",
    "\n",
    "forest_clf=RandomForestClassifier(random_state=42)\n",
    "forest_proba_scores=cross_val_predict(forest_clf,train_X,train_y_8,cv=3,method='predict_proba')"
   ]
  },
  {
   "cell_type": "code",
   "execution_count": 19,
   "id": "treated-memory",
   "metadata": {},
   "outputs": [
    {
     "name": "stdout",
     "output_type": "stream",
     "text": [
      "ROC_score 0.9965481456893603\n"
     ]
    },
    {
     "data": {
      "image/png": "[encoded data removed]",
      "text/plain": [
       "<Figure size 432x288 with 1 Axes>"
      ]
     },
     "metadata": {
      "needs_background": "light"
     },
     "output_type": "display_data"
    }
   ],
   "source": [
    "y_score_forest=forest_proba_scores[:,1]\n",
    "fp,tp,threshold=roc_curve(train_y_8,y_score_forest)\n",
    "roc_plot(fp,tp,'r')\n",
    "roc_plot(fpr,tpr,'b')\n",
    "print('ROC_score',roc_auc_score(train_y_8,y_score_forest))"
   ]
  },
  {
   "cell_type": "code",
   "execution_count": 20,
   "id": "according-burden",
   "metadata": {},
   "outputs": [
    {
     "name": "stdout",
     "output_type": "stream",
     "text": [
      "precision: 0.9892834629123766\n",
      "recall: 0.9892834629123766\n",
      "F1 score: 0.8874646559849199\n"
     ]
    }
   ],
   "source": [
    "y_train_pred=cross_val_predict(forest_clf,train_X,train_y_8,cv=3)\n",
    "scores(train_y_8,y_train_pred)"
   ]
  },
  {
   "cell_type": "code",
   "execution_count": 21,
   "id": "disabled-fraud",
   "metadata": {},
   "outputs": [
    {
     "data": {
      "text/plain": [
       "RandomForestClassifier(random_state=42)"
      ]
     },
     "execution_count": 21,
     "metadata": {},
     "output_type": "execute_result"
    }
   ],
   "source": [
    "forest_clf.fit(train_X,train_y)"
   ]
  },
  {
   "cell_type": "code",
   "execution_count": 22,
   "id": "intense-workplace",
   "metadata": {},
   "outputs": [
    {
     "data": {
      "text/plain": [
       "SGDClassifier(random_state=42)"
      ]
     },
     "execution_count": 22,
     "metadata": {},
     "output_type": "execute_result"
    }
   ],
   "source": [
    "classifier.fit(train_X,train_y)"
   ]
  },
  {
   "cell_type": "code",
   "execution_count": 23,
   "id": "egyptian-insulin",
   "metadata": {},
   "outputs": [
    {
     "data": {
      "text/plain": [
       "array([0.9646 , 0.96255, 0.9666 ])"
      ]
     },
     "execution_count": 23,
     "metadata": {},
     "output_type": "execute_result"
    }
   ],
   "source": [
    "cross_val_score(forest_clf,train_X,train_y,cv=3,scoring='accuracy')"
   ]
  },
  {
   "cell_type": "code",
   "execution_count": 24,
   "id": "ignored-roommate",
   "metadata": {},
   "outputs": [
    {
     "data": {
      "text/plain": [
       "array([0.87365, 0.85835, 0.8689 ])"
      ]
     },
     "execution_count": 24,
     "metadata": {},
     "output_type": "execute_result"
    }
   ],
   "source": [
    "cross_val_score(classifier,train_X,train_y,cv=3,scoring='accuracy')"
   ]
  },
  {
   "cell_type": "code",
   "execution_count": 25,
   "id": "dried-hammer",
   "metadata": {},
   "outputs": [],
   "source": [
    "def predicted_plot(pos):\n",
    "    plot_num(test_X[pos])\n",
    "    print(forest_clf.predict([test_X[pos]])[0])"
   ]
  },
  {
   "cell_type": "code",
   "execution_count": 36,
   "id": "legislative-removal",
   "metadata": {},
   "outputs": [
    {
     "data": {
      "image/png": "[encoded data removed]",
      "text/plain": [
       "<Figure size 432x288 with 1 Axes>"
      ]
     },
     "metadata": {
      "needs_background": "light"
     },
     "output_type": "display_data"
    },
    {
     "name": "stdout",
     "output_type": "stream",
     "text": [
      "6\n"
     ]
    }
   ],
   "source": [
    "predicted_plot(4008)"
   ]
  },
  {
   "cell_type": "code",
   "execution_count": 38,
   "id": "victorian-delay",
   "metadata": {},
   "outputs": [
    {
     "data": {
      "image/png": "[encoded data removed]",
      "text/plain": [
       "<Figure size 432x288 with 1 Axes>"
      ]
     },
     "metadata": {
      "needs_background": "light"
     },
     "output_type": "display_data"
    }
   ],
   "source": [
    "from numpy.random import randint\n",
    "\n",
    "x,y=train_X.shape\n",
    "noise=randint(0,100,(x,y))\n",
    "train_X_noised=train_X+noise\n",
    "train_y_noised=train_X\n",
    "x,y=test_X.shape\n",
    "noise=randint(0,100,(x,y))\n",
    "test_X_noised=test_X+noise\n",
    "test_y_noised=test_X\n",
    "plot_num(train_X_noised[10000])"
   ]
  },
  {
   "cell_type": "code",
   "execution_count": 40,
   "id": "pleasant-preservation",
   "metadata": {},
   "outputs": [
    {
     "data": {
      "text/plain": [
       "KNeighborsClassifier()"
      ]
     },
     "execution_count": 40,
     "metadata": {},
     "output_type": "execute_result"
    }
   ],
   "source": [
    "from sklearn.neighbors import KNeighborsClassifier\n",
    "\n",
    "knn=KNeighborsClassifier()\n",
    "knn.fit(train_X_noised,train_y_noised)"
   ]
  },
  {
   "cell_type": "code",
   "execution_count": 53,
   "id": "angry-programmer",
   "metadata": {},
   "outputs": [
    {
     "data": {
      "image/png": "[encoded data removed]",
      "text/plain": [
       "<Figure size 432x288 with 1 Axes>"
      ]
     },
     "metadata": {
      "needs_background": "light"
     },
     "output_type": "display_data"
    }
   ],
   "source": [
    "plot_num(test_X_noised[2000])"
   ]
  },
  {
   "cell_type": "code",
   "execution_count": 54,
   "id": "plain-service",
   "metadata": {},
   "outputs": [
    {
     "data": {
      "image/png": "[encoded data removed]",
      "text/plain": [
       "<Figure size 432x288 with 1 Axes>"
      ]
     },
     "metadata": {
      "needs_background": "light"
     },
     "output_type": "display_data"
    }
   ],
   "source": [
    "predicted_img=knn.predict([test_X_noised[2000]])\n",
    "plot_num(predicted_img)"
   ]
  },
  {
   "cell_type": "code",
   "execution_count": null,
   "id": "colonial-lying",
   "metadata": {},
   "outputs": [],
   "source": []
  }
 ],
 "metadata": {
  "kernelspec": {
   "display_name": "Python 3",
   "language": "python",
   "name": "python3"
  },
  "language_info": {
   "codemirror_mode": {
    "name": "ipython",
    "version": 3
   },
   "file_extension": ".py",
   "mimetype": "text/x-python",
   "name": "python",
   "nbconvert_exporter": "python",
   "pygments_lexer": "ipython3",
   "version": "3.6.9"
  }
 },
 "nbformat": 4,
 "nbformat_minor": 5
}
