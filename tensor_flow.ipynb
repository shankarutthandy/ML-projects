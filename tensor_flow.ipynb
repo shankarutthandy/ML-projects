{
 "cells": [
  {
   "cell_type": "code",
   "execution_count": 1,
   "id": "upset-logic",
   "metadata": {},
   "outputs": [
    {
     "name": "stdout",
     "output_type": "stream",
     "text": [
      "6\n"
     ]
    }
   ],
   "source": [
    "import tensorflow as tf\n",
    "x=tf.Variable(1,name='x')\n",
    "y=tf.Variable(2,name='y')\n",
    "f=x*x*y+y+2\n",
    "tf.print(f)"
   ]
  },
  {
   "cell_type": "code",
   "execution_count": 2,
   "id": "animated-priest",
   "metadata": {},
   "outputs": [],
   "source": [
    "from sklearn.datasets import fetch_california_housing\n",
    "import numpy as np\n",
    "\n",
    "housing=fetch_california_housing()\n",
    "X=housing['data']\n",
    "X_c=np.c_[np.ones((housing['data'].shape[0],1)),X]\n",
    "y=housing['target']\n",
    "X=tf.constant(X_c,dtype=tf.float32,name='X')\n",
    "y=tf.constant(y.reshape(-1,1),dtype=tf.float32,name='y')\n",
    "XT=tf.transpose(X)\n",
    "theta=tf.matmul(tf.matmul(tf.linalg.inv(tf.matmul(XT,X)),XT),y)"
   ]
  },
  {
   "cell_type": "code",
   "execution_count": 3,
   "id": "royal-invitation",
   "metadata": {},
   "outputs": [],
   "source": [
    "predX=10*np.random.rand(1,8)\n",
    "predX_c=np.c_[np.ones((1,1)),predX]\n",
    "predX=tf.constant(predX_c,dtype=tf.float32,name='predX')\n",
    "predicted=tf.matmul(predX,theta)"
   ]
  },
  {
   "cell_type": "code",
   "execution_count": 4,
   "id": "historical-incident",
   "metadata": {},
   "outputs": [
    {
     "name": "stdout",
     "output_type": "stream",
     "text": [
      "[[-38.4084]]\n"
     ]
    }
   ],
   "source": [
    "tf.print(predicted)"
   ]
  }
 ],
 "metadata": {
  "kernelspec": {
   "display_name": "Python 3",
   "language": "python",
   "name": "python3"
  },
  "language_info": {
   "codemirror_mode": {
    "name": "ipython",
    "version": 3
   },
   "file_extension": ".py",
   "mimetype": "text/x-python",
   "name": "python",
   "nbconvert_exporter": "python",
   "pygments_lexer": "ipython3",
   "version": "3.6.9"
  }
 },
 "nbformat": 4,
 "nbformat_minor": 5
}
